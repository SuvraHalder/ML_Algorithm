{
  "nbformat": 4,
  "nbformat_minor": 0,
  "metadata": {
    "colab": {
      "provenance": []
    },
    "kernelspec": {
      "name": "python3",
      "display_name": "Python 3"
    },
    "language_info": {
      "name": "python"
    }
  },
  "cells": [
    {
      "cell_type": "code",
      "source": [
        "from sklearn.datasets import make_regression\n",
        "import numpy as np\n",
        "x,y = make_regression(n_samples=100,n_features=1,n_informative=1,n_targets=1,noise=80 , random_state=13)\n",
        "import matplotlib.pyplot as plt\n",
        "plt.scatter(x,y)"
      ],
      "metadata": {
        "colab": {
          "base_uri": "https://localhost:8080/",
          "height": 447
        },
        "id": "ELr6S91l6ja4",
        "outputId": "790178c1-16c2-4ff7-8533-144a4a26b8d3"
      },
      "execution_count": 47,
      "outputs": [
        {
          "output_type": "execute_result",
          "data": {
            "text/plain": [
              "<matplotlib.collections.PathCollection at 0x7d600d432f10>"
            ]
          },
          "metadata": {},
          "execution_count": 47
        },
        {
          "output_type": "display_data",
          "data": {
            "text/plain": [
              "<Figure size 640x480 with 1 Axes>"
            ],
            "image/png": "[encoded data removed]"
          },
          "metadata": {}
        }
      ]
    },
    {
      "cell_type": "code",
      "source": [
        "from sklearn.linear_model import LinearRegression\n",
        "\n",
        "lr = LinearRegression()\n",
        "lr.fit(x,y)\n",
        "print(lr.coef_)\n",
        "print(lr.intercept_)\n"
      ],
      "metadata": {
        "colab": {
          "base_uri": "https://localhost:8080/"
        },
        "id": "qFXnYsIX6v3t",
        "outputId": "9236ba90-d4e4-4322-b078-671f5d3ed121"
      },
      "execution_count": 49,
      "outputs": [
        {
          "output_type": "stream",
          "name": "stdout",
          "text": [
            "[28.48743864]\n",
            "-9.17897823470792\n"
          ]
        }
      ]
    },
    {
      "cell_type": "code",
      "execution_count": 39,
      "metadata": {
        "id": "ni4zC7Ls2If1"
      },
      "outputs": [],
      "source": [
        "import numpy as np\n",
        "\n",
        "class SGDRegressor:\n",
        "  def __init__(self,lr,iter):\n",
        "    self.m = 0\n",
        "    self.b = 0\n",
        "    self.learning_rate = lr\n",
        "    self.epochs = iter\n",
        "\n",
        "  def fit(self,x,y):\n",
        "    n = len(x)\n",
        "    for i in range(self.epochs):\n",
        "      y_pred = self.m * x + self.b\n",
        "      dm = (-2 / n) * np.sum((y - y_pred) * x)\n",
        "      db = (-2 / n) * np.sum(y - y_pred)\n",
        "      self.m = self.m - self.learning_rate * dm\n",
        "      self.b = self.b - self.learning_rate * db\n",
        "\n",
        "  def predict(self,x):\n",
        "    return (self.m * x + self.b)\n",
        "\n"
      ]
    },
    {
      "cell_type": "code",
      "source": [
        "s = SGDRegressor(0.5,100)\n",
        "s.fit(x,y)\n",
        "print(s.m,s.b)"
      ],
      "metadata": {
        "colab": {
          "base_uri": "https://localhost:8080/"
        },
        "id": "Vg3sbBoS_utO",
        "outputId": "a73f6565-59c0-46f4-9ac3-2953c6ff282b"
      },
      "execution_count": 55,
      "outputs": [
        {
          "output_type": "stream",
          "name": "stdout",
          "text": [
            "8.87851152301698e+200 2.2917811914611866e+201\n"
          ]
        }
      ]
    }
  ]
}